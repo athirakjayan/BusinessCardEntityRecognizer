{
 "cells": [
  {
   "cell_type": "code",
   "execution_count": 1,
   "id": "cb43a247",
   "metadata": {},
   "outputs": [],
   "source": [
    "import cv2\n",
    "import predictions as pred"
   ]
  },
  {
   "cell_type": "code",
   "execution_count": 2,
   "id": "7bb4fb69",
   "metadata": {},
   "outputs": [],
   "source": [
    "img = cv2.imread('./data/testImg1.jpg')\n",
    "\n",
    "cv2.namedWindow('original', cv2.WINDOW_NORMAL)\n",
    "cv2.imshow('original',img)\n",
    "cv2.waitKey(0)\n",
    "cv2.destroyAllWindows()"
   ]
  },
  {
   "cell_type": "code",
   "execution_count": 3,
   "id": "69484aca",
   "metadata": {
    "scrolled": false
   },
   "outputs": [
    {
     "name": "stdout",
     "output_type": "stream",
     "text": [
      "Tina Simonds e ecovital natural food supplement ® 953 482-1772 SX tina simmonds@ecovital.com www.ecovital.com 496 East Mill Pond Ave. Christiansburg, VA 24073\n",
      "{'NAME': ['Pond'], 'ORG': ['Ecovital', 'Sx'], 'DES': [], 'PHONE': ['482'], 'EMAIL': ['simmonds@ecovital.com'], 'WEB': ['www.ecovital.com']}\n"
     ]
    }
   ],
   "source": [
    "img_results, entities = pred.getPredictions(img)\n",
    "\n",
    "print(entities)\n",
    "cv2.namedWindow('Predictions', cv2.WINDOW_NORMAL)\n",
    "cv2.imshow('Predictions',img_results)\n",
    "cv2.waitKey(0)\n",
    "cv2.destroyAllWindows()"
   ]
  },
  {
   "cell_type": "code",
   "execution_count": 4,
   "id": "5868ec2c",
   "metadata": {},
   "outputs": [],
   "source": [
    "img = cv2.imread('./data/testImg2.jpg')\n",
    "\n",
    "cv2.namedWindow('original', cv2.WINDOW_NORMAL)\n",
    "cv2.imshow('original',img)\n",
    "cv2.waitKey(0)\n",
    "cv2.destroyAllWindows()"
   ]
  },
  {
   "cell_type": "code",
   "execution_count": 5,
   "id": "054ec9dc",
   "metadata": {},
   "outputs": [
    {
     "name": "stdout",
     "output_type": "stream",
     "text": [
      "t Se Ud 711 265-9193 711 376-9284 shaun.w@company.com Shaun Whitmore www.company.com Ps 2495 Werninger Street, Houston, TX, 77002\n",
      "{'NAME': [], 'ORG': [], 'DES': [], 'PHONE': ['265711', '376'], 'EMAIL': ['shaun.w@company.com'], 'WEB': ['www.company.com']}\n"
     ]
    }
   ],
   "source": [
    "img_results, entities = pred.getPredictions(img)\n",
    "\n",
    "print(entities)\n",
    "cv2.namedWindow('Predictions', cv2.WINDOW_NORMAL)\n",
    "cv2.imshow('Predictions',img_results)\n",
    "cv2.waitKey(0)\n",
    "cv2.destroyAllWindows()"
   ]
  },
  {
   "cell_type": "code",
   "execution_count": 6,
   "id": "19276fed",
   "metadata": {},
   "outputs": [],
   "source": [
    "img = cv2.imread('./data/testImg3.jpg')\n",
    "\n",
    "cv2.namedWindow('original', cv2.WINDOW_NORMAL)\n",
    "cv2.imshow('original',img)\n",
    "cv2.waitKey(0)\n",
    "cv2.destroyAllWindows()"
   ]
  },
  {
   "cell_type": "code",
   "execution_count": 7,
   "id": "c44d849a",
   "metadata": {},
   "outputs": [
    {
     "name": "stdout",
     "output_type": "stream",
     "text": [
      "professional peerned Carrrert rr Oe een\n",
      "{'NAME': [], 'ORG': [], 'DES': ['Professional'], 'PHONE': [], 'EMAIL': [], 'WEB': []}\n"
     ]
    }
   ],
   "source": [
    "img_results, entities = pred.getPredictions(img)\n",
    "\n",
    "print(entities)\n",
    "cv2.namedWindow('Predictions', cv2.WINDOW_NORMAL)\n",
    "cv2.imshow('Predictions',img_results)\n",
    "cv2.waitKey(0)\n",
    "cv2.destroyAllWindows()"
   ]
  },
  {
   "cell_type": "code",
   "execution_count": null,
   "id": "a3231b29",
   "metadata": {},
   "outputs": [],
   "source": []
  }
 ],
 "metadata": {
  "kernelspec": {
   "display_name": "Python 3 (ipykernel)",
   "language": "python",
   "name": "python3"
  },
  "language_info": {
   "codemirror_mode": {
    "name": "ipython",
    "version": 3
   },
   "file_extension": ".py",
   "mimetype": "text/x-python",
   "name": "python",
   "nbconvert_exporter": "python",
   "pygments_lexer": "ipython3",
   "version": "3.9.13"
  }
 },
 "nbformat": 4,
 "nbformat_minor": 5
}
